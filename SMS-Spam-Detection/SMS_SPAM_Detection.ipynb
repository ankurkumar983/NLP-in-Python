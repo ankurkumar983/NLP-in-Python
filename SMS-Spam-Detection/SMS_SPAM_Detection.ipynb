{
 "cells": [
  {
   "cell_type": "markdown",
   "metadata": {
    "collapsed": true
   },
   "source": [
    "# Catagorise a SMS as a SPAM/HAM message using Python\n"
   ]
  },
  {
   "cell_type": "markdown",
   "metadata": {
    "collapsed": true
   },
   "source": [
    "Dataset is present at Kaggle:\n",
    "The SMS Spam Collection is a set of SMS tagged messages that have been collected for SMS Spam research. It contains one set of SMS messages in English of 5,574 messages, \n",
    "tagged acording being ham (legitimate) or spam.\n",
    "https://www.kaggle.com/uciml/sms-spam-collection-dataset"
   ]
  },
  {
   "cell_type": "code",
   "execution_count": 94,
   "metadata": {
    "collapsed": true
   },
   "outputs": [],
   "source": [
    "#Importing the libraries\n",
    "import numpy as np\n",
    "import pandas as pd\n",
    "import matplotlib.pyplot as plt\n",
    "import seaborn as sns\n",
    "from sklearn.feature_extraction.text import CountVectorizer\n",
    "from sklearn.model_selection import train_test_split\n",
    "from sklearn.naive_bayes import MultinomialNB\n",
    "from sklearn.feature_extraction.text import TfidfVectorizer\n",
    "\n",
    "import string\n",
    "import nltk\n",
    "from nltk.corpus import stopwords\n",
    "from nltk.tokenize import word_tokenize\n",
    "from nltk.stem import SnowballStemmer"
   ]
  },
  {
   "cell_type": "code",
   "execution_count": 88,
   "metadata": {},
   "outputs": [
    {
     "data": {
      "text/html": [
       "<div>\n",
       "<style>\n",
       "    .dataframe thead tr:only-child th {\n",
       "        text-align: right;\n",
       "    }\n",
       "\n",
       "    .dataframe thead th {\n",
       "        text-align: left;\n",
       "    }\n",
       "\n",
       "    .dataframe tbody tr th {\n",
       "        vertical-align: top;\n",
       "    }\n",
       "</style>\n",
       "<table border=\"1\" class=\"dataframe\">\n",
       "  <thead>\n",
       "    <tr style=\"text-align: right;\">\n",
       "      <th></th>\n",
       "      <th>v1</th>\n",
       "      <th>v2</th>\n",
       "      <th>Unnamed: 2</th>\n",
       "      <th>Unnamed: 3</th>\n",
       "      <th>Unnamed: 4</th>\n",
       "    </tr>\n",
       "  </thead>\n",
       "  <tbody>\n",
       "    <tr>\n",
       "      <th>0</th>\n",
       "      <td>ham</td>\n",
       "      <td>Go until jurong point, crazy.. Available only ...</td>\n",
       "      <td>NaN</td>\n",
       "      <td>NaN</td>\n",
       "      <td>NaN</td>\n",
       "    </tr>\n",
       "    <tr>\n",
       "      <th>1</th>\n",
       "      <td>ham</td>\n",
       "      <td>Ok lar... Joking wif u oni...</td>\n",
       "      <td>NaN</td>\n",
       "      <td>NaN</td>\n",
       "      <td>NaN</td>\n",
       "    </tr>\n",
       "    <tr>\n",
       "      <th>2</th>\n",
       "      <td>spam</td>\n",
       "      <td>Free entry in 2 a wkly comp to win FA Cup fina...</td>\n",
       "      <td>NaN</td>\n",
       "      <td>NaN</td>\n",
       "      <td>NaN</td>\n",
       "    </tr>\n",
       "    <tr>\n",
       "      <th>3</th>\n",
       "      <td>ham</td>\n",
       "      <td>U dun say so early hor... U c already then say...</td>\n",
       "      <td>NaN</td>\n",
       "      <td>NaN</td>\n",
       "      <td>NaN</td>\n",
       "    </tr>\n",
       "    <tr>\n",
       "      <th>4</th>\n",
       "      <td>ham</td>\n",
       "      <td>Nah I don't think he goes to usf, he lives aro...</td>\n",
       "      <td>NaN</td>\n",
       "      <td>NaN</td>\n",
       "      <td>NaN</td>\n",
       "    </tr>\n",
       "    <tr>\n",
       "      <th>5</th>\n",
       "      <td>spam</td>\n",
       "      <td>FreeMsg Hey there darling it's been 3 week's n...</td>\n",
       "      <td>NaN</td>\n",
       "      <td>NaN</td>\n",
       "      <td>NaN</td>\n",
       "    </tr>\n",
       "    <tr>\n",
       "      <th>6</th>\n",
       "      <td>ham</td>\n",
       "      <td>Even my brother is not like to speak with me. ...</td>\n",
       "      <td>NaN</td>\n",
       "      <td>NaN</td>\n",
       "      <td>NaN</td>\n",
       "    </tr>\n",
       "    <tr>\n",
       "      <th>7</th>\n",
       "      <td>ham</td>\n",
       "      <td>As per your request 'Melle Melle (Oru Minnamin...</td>\n",
       "      <td>NaN</td>\n",
       "      <td>NaN</td>\n",
       "      <td>NaN</td>\n",
       "    </tr>\n",
       "    <tr>\n",
       "      <th>8</th>\n",
       "      <td>spam</td>\n",
       "      <td>WINNER!! As a valued network customer you have...</td>\n",
       "      <td>NaN</td>\n",
       "      <td>NaN</td>\n",
       "      <td>NaN</td>\n",
       "    </tr>\n",
       "    <tr>\n",
       "      <th>9</th>\n",
       "      <td>spam</td>\n",
       "      <td>Had your mobile 11 months or more? U R entitle...</td>\n",
       "      <td>NaN</td>\n",
       "      <td>NaN</td>\n",
       "      <td>NaN</td>\n",
       "    </tr>\n",
       "  </tbody>\n",
       "</table>\n",
       "</div>"
      ],
      "text/plain": [
       "     v1                                                 v2 Unnamed: 2  \\\n",
       "0   ham  Go until jurong point, crazy.. Available only ...        NaN   \n",
       "1   ham                      Ok lar... Joking wif u oni...        NaN   \n",
       "2  spam  Free entry in 2 a wkly comp to win FA Cup fina...        NaN   \n",
       "3   ham  U dun say so early hor... U c already then say...        NaN   \n",
       "4   ham  Nah I don't think he goes to usf, he lives aro...        NaN   \n",
       "5  spam  FreeMsg Hey there darling it's been 3 week's n...        NaN   \n",
       "6   ham  Even my brother is not like to speak with me. ...        NaN   \n",
       "7   ham  As per your request 'Melle Melle (Oru Minnamin...        NaN   \n",
       "8  spam  WINNER!! As a valued network customer you have...        NaN   \n",
       "9  spam  Had your mobile 11 months or more? U R entitle...        NaN   \n",
       "\n",
       "  Unnamed: 3 Unnamed: 4  \n",
       "0        NaN        NaN  \n",
       "1        NaN        NaN  \n",
       "2        NaN        NaN  \n",
       "3        NaN        NaN  \n",
       "4        NaN        NaN  \n",
       "5        NaN        NaN  \n",
       "6        NaN        NaN  \n",
       "7        NaN        NaN  \n",
       "8        NaN        NaN  \n",
       "9        NaN        NaN  "
      ]
     },
     "execution_count": 88,
     "metadata": {},
     "output_type": "execute_result"
    }
   ],
   "source": [
    "#get data\n",
    "dataset=pd.read_csv('spam.csv',encoding='ISO-8859-1')\n",
    "dataset.head(10)"
   ]
  },
  {
   "cell_type": "code",
   "execution_count": 89,
   "metadata": {},
   "outputs": [
    {
     "data": {
      "text/html": [
       "<div>\n",
       "<style>\n",
       "    .dataframe thead tr:only-child th {\n",
       "        text-align: right;\n",
       "    }\n",
       "\n",
       "    .dataframe thead th {\n",
       "        text-align: left;\n",
       "    }\n",
       "\n",
       "    .dataframe tbody tr th {\n",
       "        vertical-align: top;\n",
       "    }\n",
       "</style>\n",
       "<table border=\"1\" class=\"dataframe\">\n",
       "  <thead>\n",
       "    <tr style=\"text-align: right;\">\n",
       "      <th></th>\n",
       "      <th>catagory</th>\n",
       "      <th>msg</th>\n",
       "    </tr>\n",
       "  </thead>\n",
       "  <tbody>\n",
       "    <tr>\n",
       "      <th>0</th>\n",
       "      <td>ham</td>\n",
       "      <td>Go until jurong point, crazy.. Available only ...</td>\n",
       "    </tr>\n",
       "    <tr>\n",
       "      <th>1</th>\n",
       "      <td>ham</td>\n",
       "      <td>Ok lar... Joking wif u oni...</td>\n",
       "    </tr>\n",
       "    <tr>\n",
       "      <th>2</th>\n",
       "      <td>spam</td>\n",
       "      <td>Free entry in 2 a wkly comp to win FA Cup fina...</td>\n",
       "    </tr>\n",
       "    <tr>\n",
       "      <th>3</th>\n",
       "      <td>ham</td>\n",
       "      <td>U dun say so early hor... U c already then say...</td>\n",
       "    </tr>\n",
       "    <tr>\n",
       "      <th>4</th>\n",
       "      <td>ham</td>\n",
       "      <td>Nah I don't think he goes to usf, he lives aro...</td>\n",
       "    </tr>\n",
       "    <tr>\n",
       "      <th>5</th>\n",
       "      <td>spam</td>\n",
       "      <td>FreeMsg Hey there darling it's been 3 week's n...</td>\n",
       "    </tr>\n",
       "    <tr>\n",
       "      <th>6</th>\n",
       "      <td>ham</td>\n",
       "      <td>Even my brother is not like to speak with me. ...</td>\n",
       "    </tr>\n",
       "    <tr>\n",
       "      <th>7</th>\n",
       "      <td>ham</td>\n",
       "      <td>As per your request 'Melle Melle (Oru Minnamin...</td>\n",
       "    </tr>\n",
       "    <tr>\n",
       "      <th>8</th>\n",
       "      <td>spam</td>\n",
       "      <td>WINNER!! As a valued network customer you have...</td>\n",
       "    </tr>\n",
       "    <tr>\n",
       "      <th>9</th>\n",
       "      <td>spam</td>\n",
       "      <td>Had your mobile 11 months or more? U R entitle...</td>\n",
       "    </tr>\n",
       "  </tbody>\n",
       "</table>\n",
       "</div>"
      ],
      "text/plain": [
       "  catagory                                                msg\n",
       "0      ham  Go until jurong point, crazy.. Available only ...\n",
       "1      ham                      Ok lar... Joking wif u oni...\n",
       "2     spam  Free entry in 2 a wkly comp to win FA Cup fina...\n",
       "3      ham  U dun say so early hor... U c already then say...\n",
       "4      ham  Nah I don't think he goes to usf, he lives aro...\n",
       "5     spam  FreeMsg Hey there darling it's been 3 week's n...\n",
       "6      ham  Even my brother is not like to speak with me. ...\n",
       "7      ham  As per your request 'Melle Melle (Oru Minnamin...\n",
       "8     spam  WINNER!! As a valued network customer you have...\n",
       "9     spam  Had your mobile 11 months or more? U R entitle..."
      ]
     },
     "execution_count": 89,
     "metadata": {},
     "output_type": "execute_result"
    }
   ],
   "source": [
    "##Cleaning the data\n",
    "#Remove unnecessary columns\n",
    "dataset=dataset.drop(['Unnamed: 2','Unnamed: 3','Unnamed: 4'],axis=1)\n",
    "#Rename columns\n",
    "dataset.columns=['catagory','msg']\n",
    "#View data\n",
    "dataset.head(10)\n"
   ]
  },
  {
   "cell_type": "code",
   "execution_count": 90,
   "metadata": {},
   "outputs": [
    {
     "data": {
      "image/png": "[encoded data removed]",
      "text/plain": [
       "<matplotlib.figure.Figure at 0x20850f087b8>"
      ]
     },
     "metadata": {},
     "output_type": "display_data"
    }
   ],
   "source": [
    "#Visualize using pie charts\n",
    "dataset['catagory'].value_counts().plot(kind='pie',explode=[0,0.1],autopct='%1.1f%%',figsize=(4,4))\n",
    "plt.ylabel('Spam/HAM')\n",
    "plt.show()"
   ]
  },
  {
   "cell_type": "markdown",
   "metadata": {},
   "source": [
    "Most of the messages are HAM in the dataset"
   ]
  },
  {
   "cell_type": "code",
   "execution_count": 91,
   "metadata": {},
   "outputs": [
    {
     "name": "stdout",
     "output_type": "stream",
     "text": [
      "Top 10 Spam words are :\n",
      "\n",
      "call      346\n",
      "free      217\n",
      "txt       156\n",
      "u         144\n",
      "ur        144\n",
      "mobile    123\n",
      "text      121\n",
      "stop      114\n",
      "claim     113\n",
      "reply     104\n",
      "dtype: int64\n",
      "\n",
      "Top 10 Ham words are :\n",
      "\n",
      "u       974\n",
      "gt      318\n",
      "lt      316\n",
      "get     301\n",
      "ok      246\n",
      "go      246\n",
      "got     242\n",
      "ur      237\n",
      "know    234\n",
      "like    231\n",
      "dtype: int64\n"
     ]
    }
   ],
   "source": [
    "#Visualise top HAM/SPAM words\n",
    "ham_msg=dataset[dataset['catagory']=='ham']['msg']\n",
    "spam_msg=dataset[dataset['catagory']=='spam']['msg']\n",
    "spam_words=[]\n",
    "ham_words=[]\n",
    "\n",
    "def exSpamWords(spam_msgs):\n",
    "    global spam_words\n",
    "    words = [word.lower() for word in word_tokenize(spam_msgs) if word.lower() not in stopwords.words(\"english\") and word.lower().isalpha()]\n",
    "    spam_words = spam_words + words\n",
    "    \n",
    "def exHamWords(ham_msgs):\n",
    "    global ham_words\n",
    "    words = [word.lower() for word in word_tokenize(ham_msgs) if word.lower() not in stopwords.words(\"english\") and word.lower().isalpha()]\n",
    "    ham_words = ham_words + words\n",
    "\n",
    "spam_msg.apply(exSpamWords)\n",
    "spam_words = np.array(spam_words)\n",
    "print(\"Top 10 Spam words are :\\n\")\n",
    "print(pd.Series(spam_words).value_counts().head(n = 10))\n",
    "\n",
    "ham_msg.apply(exHamWords)\n",
    "ham_words = np.array(ham_words)\n",
    "print(\"\\nTop 10 Ham words are :\\n\")\n",
    "print(pd.Series(ham_words).value_counts().head(n = 10))\n"
   ]
  },
  {
   "cell_type": "code",
   "execution_count": 92,
   "metadata": {},
   "outputs": [
    {
     "data": {
      "image/png": "[encoded data removed]",
      "text/plain": [
       "<matplotlib.figure.Figure at 0x208513ad9b0>"
      ]
     },
     "metadata": {},
     "output_type": "display_data"
    }
   ],
   "source": [
    "#Impact of length of messages to spam/ham\n",
    "dataset['msg_length']=dataset['msg'].apply(len)\n",
    "\n",
    "f, ax = plt.subplots(1, 2, figsize = (10, 4))\n",
    "\n",
    "sns.distplot(dataset[dataset['catagory'] == 'spam']['msg_length'], bins = 20, ax = ax[0])\n",
    "ax[0].set_xlabel('Spam Message Word Length')\n",
    "\n",
    "sns.distplot(dataset[dataset['catagory'] == 'ham']['msg_length'], bins = 20, ax = ax[1])\n",
    "ax[0].set_xlabel('Ham Message Word Length')\n",
    "\n",
    "plt.show()\n"
   ]
  },
  {
   "cell_type": "code",
   "execution_count": 93,
   "metadata": {},
   "outputs": [
    {
     "data": {
      "text/html": [
       "<div>\n",
       "<style>\n",
       "    .dataframe thead tr:only-child th {\n",
       "        text-align: right;\n",
       "    }\n",
       "\n",
       "    .dataframe thead th {\n",
       "        text-align: left;\n",
       "    }\n",
       "\n",
       "    .dataframe tbody tr th {\n",
       "        vertical-align: top;\n",
       "    }\n",
       "</style>\n",
       "<table border=\"1\" class=\"dataframe\">\n",
       "  <thead>\n",
       "    <tr style=\"text-align: right;\">\n",
       "      <th></th>\n",
       "      <th>catagory</th>\n",
       "      <th>msg</th>\n",
       "      <th>msg_length</th>\n",
       "    </tr>\n",
       "  </thead>\n",
       "  <tbody>\n",
       "    <tr>\n",
       "      <th>0</th>\n",
       "      <td>0</td>\n",
       "      <td>go jurong point crazi avail bugi n great world...</td>\n",
       "      <td>111</td>\n",
       "    </tr>\n",
       "    <tr>\n",
       "      <th>1</th>\n",
       "      <td>0</td>\n",
       "      <td>ok lar joke wif u oni</td>\n",
       "      <td>29</td>\n",
       "    </tr>\n",
       "    <tr>\n",
       "      <th>2</th>\n",
       "      <td>1</td>\n",
       "      <td>free entri 2 wkli comp win fa cup final tkts 2...</td>\n",
       "      <td>155</td>\n",
       "    </tr>\n",
       "    <tr>\n",
       "      <th>3</th>\n",
       "      <td>0</td>\n",
       "      <td>u dun say earli hor u c alreadi say</td>\n",
       "      <td>49</td>\n",
       "    </tr>\n",
       "    <tr>\n",
       "      <th>4</th>\n",
       "      <td>0</td>\n",
       "      <td>nah dont think goe usf live around though</td>\n",
       "      <td>61</td>\n",
       "    </tr>\n",
       "    <tr>\n",
       "      <th>5</th>\n",
       "      <td>1</td>\n",
       "      <td>freemsg hey darl 3 week word back id like fun ...</td>\n",
       "      <td>148</td>\n",
       "    </tr>\n",
       "    <tr>\n",
       "      <th>6</th>\n",
       "      <td>0</td>\n",
       "      <td>even brother like speak treat like aid patent</td>\n",
       "      <td>77</td>\n",
       "    </tr>\n",
       "    <tr>\n",
       "      <th>7</th>\n",
       "      <td>0</td>\n",
       "      <td>per request mell mell oru minnaminungint nurun...</td>\n",
       "      <td>160</td>\n",
       "    </tr>\n",
       "    <tr>\n",
       "      <th>8</th>\n",
       "      <td>1</td>\n",
       "      <td>winner valu network custom select receivea å£9...</td>\n",
       "      <td>158</td>\n",
       "    </tr>\n",
       "    <tr>\n",
       "      <th>9</th>\n",
       "      <td>1</td>\n",
       "      <td>mobil 11 month u r entitl updat latest colour ...</td>\n",
       "      <td>154</td>\n",
       "    </tr>\n",
       "  </tbody>\n",
       "</table>\n",
       "</div>"
      ],
      "text/plain": [
       "   catagory                                                msg  msg_length\n",
       "0         0  go jurong point crazi avail bugi n great world...         111\n",
       "1         0                              ok lar joke wif u oni          29\n",
       "2         1  free entri 2 wkli comp win fa cup final tkts 2...         155\n",
       "3         0                u dun say earli hor u c alreadi say          49\n",
       "4         0          nah dont think goe usf live around though          61\n",
       "5         1  freemsg hey darl 3 week word back id like fun ...         148\n",
       "6         0      even brother like speak treat like aid patent          77\n",
       "7         0  per request mell mell oru minnaminungint nurun...         160\n",
       "8         1  winner valu network custom select receivea å£9...         158\n",
       "9         1  mobil 11 month u r entitl updat latest colour ...         154"
      ]
     },
     "execution_count": 93,
     "metadata": {},
     "output_type": "execute_result"
    }
   ],
   "source": [
    "#Preprocessing/cleaning the data\n",
    "#Encoding the msg catagory\n",
    "dataset['catagory']=dataset['catagory'].map({'ham':0,'spam':1})\n",
    "\n",
    "stemmer=SnowballStemmer('english')\n",
    "def cleanText(message):\n",
    "    message = message.translate(str.maketrans('', '', string.punctuation))\n",
    "    words = [stemmer.stem(word) for word in message.split() if word.lower() not in stopwords.words(\"english\")]\n",
    "    return \" \".join(words)\n",
    "\n",
    "dataset['msg']=dataset['msg'].apply(cleanText)\n",
    "dataset.head(10)"
   ]
  },
  {
   "cell_type": "code",
   "execution_count": 95,
   "metadata": {},
   "outputs": [
    {
     "name": "stdout",
     "output_type": "stream",
     "text": [
      "(5572, 7903)\n"
     ]
    }
   ],
   "source": [
    "#Split dataset in independent and dependent variables\n",
    "Y=dataset['catagory'].values\n",
    "\n",
    "#Calculate features for X\n",
    "#count_v = CountVectorizer(decode_error='ignore')\n",
    "#X=count_v.fit_transform(dataset['msg'])\n",
    "\n",
    "vec = TfidfVectorizer(encoding = \"latin-1\", strip_accents = \"unicode\", stop_words = \"english\")\n",
    "X = vec.fit_transform(dataset[\"msg\"])\n",
    "print(X.shape)"
   ]
  },
  {
   "cell_type": "code",
   "execution_count": 97,
   "metadata": {},
   "outputs": [],
   "source": [
    "#Splitting the training and test data\n",
    "Xtrain,Xtest,Ytrain,Ytest=train_test_split(X,Y,test_size=0.2,stratify=dataset['catagory'])"
   ]
  },
  {
   "cell_type": "code",
   "execution_count": 98,
   "metadata": {
    "collapsed": true
   },
   "outputs": [],
   "source": [
    "#Creation/Training of the model\n",
    "model_mnNB=MultinomialNB()\n",
    "model_mnNB.fit(Xtrain,Ytrain)\n",
    "ypred=model_mnNB.predict(Xtest)"
   ]
  },
  {
   "cell_type": "code",
   "execution_count": 99,
   "metadata": {},
   "outputs": [
    {
     "name": "stdout",
     "output_type": "stream",
     "text": [
      "train score: 0.9766659187794481\n",
      "test score: 0.9605381165919282\n"
     ]
    }
   ],
   "source": [
    "print(\"train score:\", model_mnNB.score(Xtrain, Ytrain))\n",
    "print(\"test score:\", model_mnNB.score(Xtest, Ytest))"
   ]
  },
  {
   "cell_type": "code",
   "execution_count": 100,
   "metadata": {},
   "outputs": [
    {
     "name": "stdout",
     "output_type": "stream",
     "text": [
      "[[966  44]\n",
      " [  0 105]]\n",
      "\n",
      "\n",
      "=======Messages were actually spam but classified as not spam=====\n",
      "freemsg hey darl 3 week word back id like fun still tb ok xxx std chgs send å£150 rcv\n",
      "sms ac sptv new jersey devil detroit red wing play ice hockey correct incorrect end repli end sptv\n",
      "hear new divorc barbi come ken stuff\n",
      "want 2 get laid tonight want real dog locat sent direct 2 ur mob join uk largest dog network bt txting gravel 69888 nt ec2a 31pmsg150p\n",
      "freemsg havent repli text im randi sexi femal live local luv hear u netcollex ltd 08700621170150p per msg repli stop end\n",
      "custom servic annonc new year deliveri wait pleas call 07046744435 arrang deliveri\n",
      "bangbab ur order way u receiv servic msg 2 download ur content u goto wap bangb tv ur mobil internetservic menu\n",
      "uniqu enough find 30th august wwwareyouuniquecouk\n",
      "u meet ur dream partner soon ur career 2 flyng start 2 find free txt horo follow ur star sign e g horo ari\n",
      "hey realli horni want chat see nake text hot 69698 text charg 150pm unsubscrib text stop 69698\n",
      "send logo 2 ur lover 2 name join heart txt love name1 name2 mobno eg love adam eve 07123456789 87077 yahoo pobox36504w45wq txtno 4 ad 150p\n",
      "want 2 get laid tonight want real dog locat sent direct 2 ur mob join uk largest dog network txting moan 69888nyt ec2a 31pmsg150p\n",
      "credit top httpwwwbubbletextcom renew pin tgxxrz\n",
      "xclusiveclubsaisai 2morow 285 soire special zouk nichol parisfre rose 2 ladi info 0794674629107880867867\n",
      "sms ac sun0819 post helloyou seem cool\n",
      "hi im sue 20 year old work lapdanc love sex text live im bedroom text sue 89555 textoper g2 1da 150ppmsg 18\n",
      "forward 448712404000pleas call 08712404000 immedi urgent messag wait\n",
      "email alertfrom jeri stewarts 2kbsubject lowcost prescripiton drvgsto listen email call 123\n",
      "realiz 40 year well thousand old ladi run around tattoo\n",
      "romant pari 2 night 2 flight å£79 book 4 next year call 08704439680tscs appli\n",
      "ever thought live good life perfect partner txt back name age join mobil communiti 100psms\n",
      "talk sexi make new friend fall love world discreet text date servic text vip 83110 see could meet\n",
      "hello need posh bird chap user trial prod champney put need address dob asap ta r\n",
      "remind download content alreadi paid goto httpdoit mymobi tv collect content\n",
      "get touch folk wait compani txt back name age opt enjoy communiti 150psms\n",
      "filthi stori girl wait\n",
      "guess somebodi know secret fanci wanna find give us call 09065394514 landlin datebox1282essexcm61xn 150pmin 18\n",
      "know someon know fanci call 09058097218 find pobox 6 ls15hb 150p\n",
      "new local date area lot new peopl regist area repli date start 18 wwwflirtpartyus replys150\n",
      "dont forget place mani free request 1stchoicecouk wish inform call 08707808226\n",
      "dont know u u dont know send chat 86688 let find 150pmsg rcvd hgsuite3422landsroww1j6hl ldn 18 year\n",
      "1000s girl mani local 2 u r virgin 2 r readi 2 4fil ur everi sexual need u 4fil text cute 69911å£150p\n",
      "1 new voicemail pleas call 08719181503\n",
      "1 new voicemail pleas call 08719181513\n",
      "repli name address receiv post week complet free accommod various global locat wwwphb1com ph08700435505150p\n",
      "pleas call 08712402779 immedi urgent messag wait\n",
      "hungri gay guy feel hungri 4 call 08718730555 10pmin stop text call 08712460324 10pmin\n",
      "u get 2 phone wanna chat 2 set meet call 09096102316 u cum 2moro luv jane xx callså£1minmoremobsemspobox45po139wa\n",
      "win newest ûïharri potter order phoenix book 5 repli harri answer 5 question chanc first among reader\n",
      "ur balanc å£500 ur next question sang uptown girl 80s 2 answer txt ur answer 83600 good luck\n",
      "free2day sexi st georg day pic jordantxt pic 89080 dont miss everi wk sauci celeb4 pic c pocketbabecouk 0870241182716 å£3wk\n",
      "bear pic nick tom pete dick fact type tri gay chat photo upload call 08718730666 10pmin 2 stop text call 08712460324\n",
      "sale arsenal dartboard good condit doubl trebl\n",
      "clair havin borin time alon u wanna cum 2nite chat 09099725823 hope 2 c u luv clair xx callså£1minmoremobsemspobox45po139wa\n",
      "hi luci hubbi meetin day fri b alon hotel u fanci cumin pls leav msg 2day 09099726395 luci x callså£1minmobsmorelkpobox177hp51fl\n",
      "sms ac jsco energi high u may know 2channel 2day ur leadership skill r strong psychic repli an wquestion end repli end jsco\n",
      "thank vote sing along star karaok mobil free link repli sing\n",
      "hello orang 1 month free access game news sport plus 10 free text 20 photo messag repli yes term appli wwworangecoukow\n",
      "500 free text msgs text ok 80488 well credit account\n",
      "0anetwork allow compani bill sms respons supplier\n",
      "freemsgfeelin kinda lnli hope u like 2 keep compani jst got cam mobi wanna c pictxt repli date 82242 msg150p 2rcv hlp 08712317606 stop 82242\n",
      "hi ur lookin 4 sauci daytim fun wiv busti marri woman free next week chat 2 sort time 09099726429 janinexx callså£1minmobsmorelkpobox177hp51fl\n",
      "month password wap mobsicom 391784 use wap phone pc\n",
      "would like see xxx pic hot near ban uk\n",
      "call 09090900040 listen extrem dirti live chat go offic right total privaci one know sic listen 60p min 247mp 0870753331018\n",
      "freemsg hey u got 1 videop fone repli wild txt ill send u pic hurri im bore work xxx 18 150prcvd stop2stop\n",
      "peopl dog area call 09090204448 join like mind guy arrang 1 there 1 even aå£150 minapn ls278bb\n",
      "guess somebodi know secret fanci wanna find give us call 09065394973 landlin datebox1282essexcm61xn 150pmin 18\n",
      "themobyo yo yoher come new select hot download member get free click open next link sent ur fone\n",
      "85233 freeringtonerepli real\n",
      "free2day sexi st georg day pic jordantxt pic 89080 dont miss everi wk sauci celeb4 pic c pocketbabecouk 0870241182716 å£3wk\n",
      "freemsg hey im buffi 25 love satisfi men home alon feel randi repli 2 c pix qlynnbv help08700621170150p msg send stop stop txts\n",
      "hi ya babe x u 4goten bout scammer get smartthough regular vodafon respond get prem rate msgsubscript nos use also bewar\n",
      "back 2 work 2morro half term u c 2nite 4 sexi passion b4 2 go back chat 09099726481 luv dena call å£1minmobsmorelkpobox177hp51fl\n",
      "88066 88066 lost 3pound help\n",
      "1 new messag pleas call 08718738034\n",
      "forward 21870000hi mailbox messag sms alert 4 messag 21 match pleas call back 09056242159 retriev messag match\n",
      "tddnewsletteremc1couk game thedailydraw dear helen dozen free game great prizeswith\n",
      "download mani rington u like restrict 1000s 2 choos u even send 2 yr buddi txt sir 80082 å£3\n",
      "pleas call 08712402902 immedi urgent messag wait\n",
      "fantasi footbal back tv go sky gamestar sky activ play å£250k dream team score start saturday regist nowski opt 88088\n",
      "yes place town meet excit adult singl uk txt chat 86688 150pmsg\n",
      "babe u want dont u babi im nasti thing 4 filthyguy fanci rude time sexi bitch go slo n hard txt xxx slo4msg\n",
      "dont know u u dont know send chat 86688 let find 150pmsg rcvd hgsuite3422landsroww1j6hl ldn 18 year\n",
      "guess ithi first time creat web page wwwasjesuscom read wrote im wait opinion want friend 11\n",
      "messag brought gmw ltd connect\n",
      "next amaz xxx picsfree1 video sent enjoy one vid enough 2day text back keyword picsfree1 get next video\n",
      "hello darl today would love chat dont tell look like sexi\n",
      "wanna get laid 2nite want real dog locat sent direct ur mobil join uk largest dog network txt park 69696 nyt ec2a 3lp å£150msg\n",
      "88066 lost å£12 help\n",
      "dont know u u dont know send chat 86688 let find 150pmsg rcvd hgsuite3422landsroww1j6hl ldn 18 year\n",
      "burger king wanna play footi top stadium get 2 burger king 1st sept go larg super cocacola walk winner\n",
      "come take littl time child afraid dark becom teenag want stay night\n",
      "freemsgfav xmas tonesrepli real\n",
      "interflora åòit late order interflora flower christma call 0800 505060 place order midnight tomorrow\n",
      "romcapspam everyon around respond well presenc sinc warm outgo bring real breath sunshin\n",
      "send logo 2 ur lover 2 name join heart txt love name1 name2 mobno eg love adam eve 07123456789 87077 yahoo pobox36504w45wq txtno 4 ad 150p\n",
      "hey boy want hot xxx pic sent direct 2 ur phone txt porn 69855 24hrs free 50p per day stop text stopbcm sf wc1n3xx\n",
      "1 new messag pleas call 08712400200\n",
      "ever notic your drive anyon go slower idiot everyon drive faster maniac\n",
      "unsubscrib servic get ton sexi babe hunk straight phone go httpgotbabescouk subscript\n",
      "hi babe jordan r u im home abroad lone text back u wanna chat xxsp visionsmscom text stop stopcost 150p 08712400603\n",
      "good luck draw take place 28th feb 06 good luck remov send stop 87239 custom servic 08708034412\n",
      "lookatm thank purchas video clip lookatm youv charg 35p think better send video mmsto 32323\n",
      "sexi sexi cum text im wet warm readi porn u fun msg free recd msgs 150p inc vat 2 cancel text stop\n",
      "1 new voicemail pleas call 08719181513\n",
      "sorri miss call let talk time im 07090201529\n",
      "pleas call 08712402972 immedi urgent messag wait\n",
      "life never much fun great came made truli special wont forget enjoy one gbpsms\n",
      "welcom pleas repli age gender begin eg 24m\n",
      "new 2 club dont fink met yet b gr8 2 c u pleas leav msg 2day wiv ur area 09099726553 repli promis carli x callså£1minmobsmor lkpobox177hp51fl\n",
      "heard u4 call night knicker make beg like u last time 01223585236 xx luv nikiyu4net\n",
      "xmas new year eve ticket sale club day 10am till 8pm thur fri sat night week theyr sell fast\n",
      "rock yr chik get 100s filthi film xxx pic yr phone rpli filth 69669 saristar ltd e14 9yt 08701752560 450p per 5 day stop2 cancel\n",
      "auction round 4 highest bid å£54 next maximum bid å£71 bid send bid e g 10 bid å£10 83383 good luck\n",
      "wont believ true incred txts repli g learn truli amaz thing blow mind o2fwd 18ptxt\n",
      "22 146tf150p\n",
      "dear voucher holder 2 claim 1st class airport loung pass use holiday voucher call 08704439680 book quot 1st class x 2\n",
      "yes place town meet excit adult singl uk txt chat 86688 150pmsg\n",
      "twink bear scalli skin jock call dont miss weekend fun call 08712466669 10pmin 2 stop text call 08712460324nat rate\n",
      "fantasi footbal back tv go sky gamestar sky activ play å£250k dream team score start saturday regist nowski opt 88088\n",
      "oh god ive found number im glad text back xafter msgs cst std ntwk chg å£150\n",
      "link pictur sent also use httpalto18coukwavewaveaspo44345\n",
      "free msg get gnarl barkley crazi rington total free repli go messag right\n",
      "ringtonek 84484\n",
      "tbspersolvo chase us sinc sept forå£38 definit pay thank inform ignor kath manchest\n",
      "loan purpos even bad credit tenant welcom call noworriesloanscom 08717111821\n",
      "freemsg today day readi im horni live town love sex fun game netcollex ltd 08700621170150p per msg repli stop end\n",
      "simpson movi releas juli 2007 name band die start film agreen day bblue day cred day send b c\n",
      "cmon babe make horni turn txt fantasi babe im hot sticki need repli cost å£150 2 cancel send stop\n",
      "miss call alert number call left messag 07008009200\n",
      "accord repeat text word ok mobil phone send\n",
      "block breaker come delux format new featur great graphic tmobil buy å£5 repli get bbdelux take challeng\n",
      "pleas call 08712402578 immedi urgent messag wait\n",
      "thesmszonecom let send free anonym mask messagesim send messag theredo see potenti abus\n",
      "ur balanc å£600 next question complet landmark big bob b barri c ben text b c 83738 good luck\n",
      "dont b floppi b snappi happi gay chat servic photo upload call 08718730666 10pmin 2 stop text call 08712460324\n",
      "want explicit sex 30 sec ring 02073162414 cost 20pmin\n",
      "money wine number 946 wot next\n",
      "want cock hubbi away need real man 2 satisfi txt wife 89938 string action txt stop 2 end txt rec å£150ea otbox 731 la1 7ws\n",
      "rip get mobil content wwwclubmobycom call 08717509990 polytruepixringtonesgam six download 3\n",
      "hi babe chloe r u smash saturday night great weekend u miss sp visionsmscom text stop stop 150ptext\n",
      "free game get rayman golf 4 free o2 game arcad 1st get ur game set repli post save activ8 press 0 key arcad termsappli\n",
      "week coolmob tone readi download week new tone includ 1 crazi frogaxel f 2 akonlon 3 black eyeddont p info n\n",
      "cashbincouk get lot cash weekend wwwcashbincouk dear welcom weekend got biggest best ever cash give away\n",
      "santa call would littl one like call santa xmas eve call 09077818151 book time calls150ppm last 3min 30s tc wwwsantacallingcom\n",
      "check choos babe video smsshsexnetun fgkslpopw fgkslpo\n",
      "hi sexychat girl wait text text great night chat send stop stop servic\n",
      "hi ami send free phone number coupl day give access adult parti\n",
      "dear voucher holder next meal us use follow link pc 2 enjoy 2 4 1 dine experiencehttpwwwvouch4mecometlpdiningasp\n",
      "wont believ true incred txts repli g learn truli amaz thing blow mind o2fwd 18ptxt\n",
      "1 new messag pleas call 08715205273\n",
      "datingi two start sent text talk sport radio last week connect think coincid\n",
      "1 new messag call 02070836089\n",
      "santa call would littl one like call santa xmas eve call 09058094583 book time\n",
      "latest news polic station toilet stolen cop noth go\n",
      "sparkl shop break 45 per person call 0121 2025050 visit wwwshortbreaksorguk\n",
      "ask 3mobil 0870 chatlin inclu free min india cust serv sed yes l8er got mega bill 3 dont giv shit bailiff due day å£250 3 want å£800\n",
      "\n",
      "\n",
      "=======Messages not actually spam but classified as spam=====\n"
     ]
    }
   ],
   "source": [
    "#See the messages classified wrong\n",
    "from sklearn.metrics import confusion_matrix\n",
    "cm=confusion_matrix(ypred,Ytest)\n",
    "print(cm)\n",
    "\n",
    "dataset['prediction']=model_mnNB.predict(X)\n",
    "# things that should be spam\n",
    "sneaky_spam = dataset[(dataset['prediction'] == 0) & (dataset['catagory'] == 1)]['msg']\n",
    "print('\\n\\n=======Messages were actually spam but classified as not spam=====')\n",
    "for msg in sneaky_spam:\n",
    "  print(msg)\n",
    "\n",
    "# things that should not be spam\n",
    "print('\\n\\n=======Messages not actually spam but classified as spam=====')\n",
    "not_actually_spam = dataset[(dataset['prediction'] == 1) & (dataset['catagory'] == 0)]['msg']\n",
    "for msg in not_actually_spam:\n",
    "  print(msg)\n"
   ]
  },
  {
   "cell_type": "markdown",
   "metadata": {
    "collapsed": true
   },
   "source": [
    "# Using AdaBoost for the classification"
   ]
  },
  {
   "cell_type": "code",
   "execution_count": 104,
   "metadata": {},
   "outputs": [
    {
     "name": "stdout",
     "output_type": "stream",
     "text": [
      "Classification rate for AdaBoost: 0.9721973094170404\n"
     ]
    }
   ],
   "source": [
    "from sklearn.ensemble import AdaBoostClassifier\n",
    "\n",
    "model_adab = AdaBoostClassifier(n_estimators=100)\n",
    "model_adab.fit(Xtrain, Ytrain)\n",
    "print(\"Classification rate for AdaBoost:\", model_adab.score(Xtest, Ytest))"
   ]
  },
  {
   "cell_type": "code",
   "execution_count": 105,
   "metadata": {},
   "outputs": [
    {
     "name": "stdout",
     "output_type": "stream",
     "text": [
      "[[966  44]\n",
      " [  0 105]]\n"
     ]
    }
   ],
   "source": [
    "#See the messages classified wrong\n",
    "from sklearn.metrics import confusion_matrix\n",
    "cm=confusion_matrix(ypred,Ytest)\n",
    "print(cm)"
   ]
  },
  {
   "cell_type": "markdown",
   "metadata": {},
   "source": [
    "The accuracy for adaboost classifier is high. So Adaboost could be used for this spam classification"
   ]
  },
  {
   "cell_type": "code",
   "execution_count": null,
   "metadata": {
    "collapsed": true
   },
   "outputs": [],
   "source": []
  }
 ],
 "metadata": {
  "kernelspec": {
   "display_name": "Python 3",
   "language": "python",
   "name": "python3"
  },
  "language_info": {
   "codemirror_mode": {
    "name": "ipython",
    "version": 3
   },
   "file_extension": ".py",
   "mimetype": "text/x-python",
   "name": "python",
   "nbconvert_exporter": "python",
   "pygments_lexer": "ipython3",
   "version": "3.6.3"
  }
 },
 "nbformat": 4,
 "nbformat_minor": 2
}
