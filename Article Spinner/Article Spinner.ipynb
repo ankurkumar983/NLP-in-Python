{
 "cells": [
  {
   "cell_type": "markdown",
   "metadata": {},
   "source": [
    "# Article Spinner in python(NLTK/SKLEARN)"
   ]
  },
  {
   "cell_type": "markdown",
   "metadata": {},
   "source": [
    "data courtesy of http://www.cs.jhu.edu/~mdredze/datasets/sentiment/index2.html"
   ]
  },
  {
   "cell_type": "code",
   "execution_count": 23,
   "metadata": {
    "collapsed": true
   },
   "outputs": [],
   "source": [
    "# Import the libraries\n",
    "import numpy as np\n",
    "import pandas as pd\n",
    "import matplotlib.pyplot as plt\n",
    "import seaborn as sns\n",
    "import string\n",
    "import random\n",
    "import nltk\n",
    "from nltk.stem import WordNetLemmatizer\n",
    "\n",
    "from bs4 import BeautifulSoup\n",
    "\n",
    "from sklearn.utils import shuffle\n",
    "from sklearn.linear_model import LogisticRegression\n",
    "from sklearn.feature_extraction.text import CountVectorizer\n",
    "from sklearn.model_selection import train_test_split"
   ]
  },
  {
   "cell_type": "code",
   "execution_count": 5,
   "metadata": {},
   "outputs": [],
   "source": [
    "#Get data\n",
    "reviews = BeautifulSoup(open('electronics/positive.review').read(),'lxml')\n",
    "reviews = reviews.findAll('review_text')"
   ]
  },
  {
   "cell_type": "code",
   "execution_count": 8,
   "metadata": {},
   "outputs": [],
   "source": [
    "#Get trigrams and make a dictionary\n",
    "trigrams = {}\n",
    "for review in reviews:\n",
    "    s = review.text.lower()\n",
    "    tokens = nltk.tokenize.word_tokenize(s)\n",
    "    for i in range(len(tokens) - 2):\n",
    "        k = (tokens[i], tokens[i+2])\n",
    "        if k not in trigrams:\n",
    "            trigrams[k] = []\n",
    "        trigrams[k].append(tokens[i+1])\n",
    "        \n",
    "trigram_probabilities = {}\n",
    "for k, words in trigrams.items():\n",
    "    # create a dictionary of word -> count\n",
    "    if len(set(words)) > 1:\n",
    "        # only do this when there are different possibilities for a middle word\n",
    "        d = {}\n",
    "        n = 0\n",
    "        for w in words:\n",
    "            if w not in d:\n",
    "                d[w] = 0\n",
    "            d[w] += 1\n",
    "            n += 1\n",
    "        for w, c in d.items():\n",
    "            d[w] = float(c) / n\n",
    "        trigram_probabilities[k] = d"
   ]
  },
  {
   "cell_type": "code",
   "execution_count": 21,
   "metadata": {},
   "outputs": [
    {
     "name": "stdout",
     "output_type": "stream",
     "text": [
      "('i', 'this') {'purchased': 0.12422360248447205, 'bought': 0.3105590062111801, 'recomend': 0.006211180124223602, 'made': 0.012422360248447204, 'picked': 0.018633540372670808, 'say': 0.006211180124223602, 'use': 0.055900621118012424, 'had': 0.006211180124223602, 'got': 0.055900621118012424, 'think': 0.037267080745341616, 'ordered': 0.012422360248447204, 'matched': 0.006211180124223602, 'noticed': 0.006211180124223602, 'thought': 0.006211180124223602, 'recommend': 0.024844720496894408, 'choose': 0.006211180124223602, 'like': 0.012422360248447204, 'found': 0.055900621118012424, 'did': 0.018633540372670808, 'find': 0.024844720496894408, 'set': 0.006211180124223602, 'love': 0.024844720496894408, 'hold': 0.006211180124223602, 'received': 0.012422360248447204, 'have': 0.018633540372670808, 'buy': 0.006211180124223602, 'chose': 0.012422360248447204, 'put': 0.006211180124223602, 'used': 0.012422360248447204, 'give': 0.006211180124223602, 'believe': 0.006211180124223602, 'mention': 0.006211180124223602, 'worked': 0.006211180124223602, 'bet': 0.006211180124223602, 'went': 0.006211180124223602, 'pop': 0.006211180124223602, 'selected': 0.006211180124223602, 'heard': 0.006211180124223602, 'do': 0.006211180124223602, 'checked': 0.006211180124223602, 'plugged': 0.006211180124223602, 'consider': 0.006211180124223602, 'reccomend': 0.006211180124223602} \n",
      "\n",
      "('purchased', 'unit') {'this': 0.5, 'the': 0.5} \n",
      "\n",
      "('unit', 'to') {'due': 0.25, ',': 0.25, 'where': 0.25, 'prior': 0.25} \n",
      "\n",
      "('in', 'area') {'my': 0.3333333333333333, 'this': 0.6666666666666666} \n",
      "\n"
     ]
    }
   ],
   "source": [
    "i=1\n",
    "for key,val in trigram_probabilities.items():\n",
    "    if i>4:\n",
    "        break\n",
    "    print(key,val,'\\n')\n",
    "    i+=1"
   ]
  },
  {
   "cell_type": "code",
   "execution_count": 55,
   "metadata": {},
   "outputs": [
    {
     "name": "stdout",
     "output_type": "stream",
     "text": [
      "Original:========\n",
      " \n",
      "i purchased this unit due to frequent blackouts in my area and 2 power supplies going bad.  it will run my cable modem, router, pc, and lcd monitor for 5 minutes.  this is more than enough time to save work and shut down.   equally important, i know that my electronics are receiving clean power.\n",
      "\n",
      "i feel that this investment is minor compared to the loss of valuable data or the failure of equipment due to a power spike or an irregular power supply.\n",
      "\n",
      "as always, amazon had it to me in <2 business days\n",
      " \n",
      "\n",
      "new:==========\n",
      " i purchased this unit due to frequent blackouts in my purchase and crank power supplies going bad . reimbursement will run my wireless network , daneelec , pc , and lcd monitor for 5 minutes . polk is less than expected time to save work and cools down . equally important , i read that my electronics are receiving clean music . i felt that this player is minor compared to the quantity/extent of valuable data or the failure of equipment due to a power spike or an irregular power supply . colors always , it had it to breakdown in < 2 business days \n",
      "\n",
      "Original:========\n",
      " \n",
      "i ordered 3 apc back-ups es 500s on the recommendation of an employee of mine who used to work at apc. i've had them for about a month now without any problems. they've functioned properly through a few unexpected power interruptions. i'll gladly order more if the need arises.\n",
      "\n",
      "pros:\n",
      " - large plug spacing, good for power adapters\n",
      " - simple design\n",
      " - long cord\n",
      "\n",
      "cons:\n",
      " - no line conditioning (usually an expensive option\n",
      " \n",
      "\n",
      "new:==========\n",
      " i ordered 3 apc back-ups es 500s on the sides of an assortment of us who wants to work at all , would 've had them for about 1 month now without any sort . i 've functioned properly through a few unexpected power interruptions . i 'll gladly order more for the need arises . pros : - large plug spacing , or for power adapters - simple design - long cord cons : - no line conditioning ( usually an expensive option \n",
      "\n",
      "Original:========\n",
      " \n",
      "wish the unit had a separate online/offline light.  when power to the unit is missing, the single red light turns off only when the warning sounds.  the warning sound is like a lot of sounds you hear in the house so it isn't always easy to tell what is happening\n",
      " \n",
      "\n",
      "new:==========\n",
      " wish the unit with a separate online/offline light . when power to the unit is slow , the single red light turns off only hear the subtle sounds . the warning sound is probably a way of buttons you hear all the mouse ; itunes is not always easy to tell you is happening \n",
      "\n",
      "Original:========\n",
      " \n",
      "cheaper than thick cd cases and less prone to breakage, these \"slim\" cases by memorex protect your cds. most buyers will get them  for use in cd or dvd burning, and these are an affordable choice from a quality company for that purpose.\n",
      "\n",
      "you may want to consider larger cases depending on your tastes, but otherwise these will probably satisfy your needs\n",
      " \n",
      "\n",
      "new:==========\n",
      " cheaper than thick cd 's and less signal to breakage , these `` relatively '' cases by memorex protect your head . most buyers will get them for use in cd or dvd burning , slip these are an affordable choice from a quality scanner for that comfortable . there may want to consider larger cases depending on your equipment , but otherwise these will easily satisfy your needs \n",
      "\n",
      "Original:========\n",
      " \n",
      "hi\n",
      "\n",
      "i brought 256 mb kingston sd card from amazon.com recently. according to my openion amazon is one of the best online shopping market, they deliver the products intime and the items i brought so far are working very well. 256 mb kingston sd card working very good with out giving any problem. \n",
      "one can always go to amazon for online shopping.\n",
      "bye\n",
      "kira\n",
      " \n",
      "\n",
      "new:==========\n",
      " hi i brought 256 mb kingston sd card from amazon.com recently . not suffice my openion amazon is one keeps the best online shopping market , they reveal the products intime and the items i brought so what are working very useful . 256 mb kingston sd card working very good with out . any problems . one can always do to amazon for online shopping . bye kira \n",
      "\n"
     ]
    }
   ],
   "source": [
    "def random_sample(d):\n",
    "    # choose a random sample from dictionary where values are the probabilities\n",
    "    list1=list(d.keys())\n",
    "    l=len(list1)-1\n",
    "    r = random.randint(0,l)\n",
    "    return(list1[r])\n",
    "    \n",
    "\n",
    "def test_spinner(review):\n",
    "    s = review.text.lower()\n",
    "    s1=\"\"\n",
    "    print(\"Original:========\\n\", s,\"\\n\")\n",
    "    tokens = nltk.tokenize.word_tokenize(s)\n",
    "    #print(tokens)\n",
    "    for i in range(len(tokens) - 2):\n",
    "        if random.random() < 0.5: # 20% chance of replacement\n",
    "            k = (tokens[i], tokens[i+2])\n",
    "            if k in trigram_probabilities:\n",
    "                w = random_sample(trigram_probabilities[k])\n",
    "                tokens[i+1] = w\n",
    "    s1=\" \".join(list(tokens))\n",
    "    print(\"new:==========\\n\",s1,\"\\n\")\n",
    "\n",
    "i=1\n",
    "for review in reviews:\n",
    "    if i>5:\n",
    "        break\n",
    "    i+=1\n",
    "    #print(\"Original====================:\\n\",review)\n",
    "    test_spinner(review)"
   ]
  },
  {
   "cell_type": "raw",
   "metadata": {},
   "source": [
    "It is just a showcase of article spinner using random function. For more correct spinning we need to use deep leanring frameworks."
   ]
  },
  {
   "cell_type": "code",
   "execution_count": null,
   "metadata": {
    "collapsed": true
   },
   "outputs": [],
   "source": []
  }
 ],
 "metadata": {
  "kernelspec": {
   "display_name": "Python 3",
   "language": "python",
   "name": "python3"
  },
  "language_info": {
   "codemirror_mode": {
    "name": "ipython",
    "version": 3
   },
   "file_extension": ".py",
   "mimetype": "text/x-python",
   "name": "python",
   "nbconvert_exporter": "python",
   "pygments_lexer": "ipython3",
   "version": "3.6.3"
  }
 },
 "nbformat": 4,
 "nbformat_minor": 2
}
